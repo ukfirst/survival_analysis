{
 "cells": [
  {
   "cell_type": "code",
   "outputs": [],
   "source": [
    "%%capture\n",
    "%load_ext autoreload\n",
    "%autoreload 2\n",
    "import pandas as pd\n",
    "import numpy as np\n",
    "from surv_optimizer.objective_functions.TwoStateCoxObjectiveFunction import TwoStateCoxObjectiveFunction\n",
    "from surv_optimizer.objective_functions.TwoStateCoxObjectiveFunction import TwoStateCoxObjectiveFunction\n",
    "from surv_optimizer.calculators.TwoStateCovariateContribution import TwoStateCovariateContribution\n",
    "from surv_optimizer.calculators.TwoStateEventRisk import TwoStateEventRisk\n",
    "from surv_optimizer.data.DatasetManager import DatasetManager\n",
    "from surv_optimizer.Optimizer import Optimizer\n",
    "\n",
    "np.set_printoptions(suppress=True)"
   ],
   "metadata": {
    "collapsed": false,
    "ExecuteTime": {
     "end_time": "2024-10-23T07:55:29.323727Z",
     "start_time": "2024-10-23T07:55:29.103445Z"
    }
   },
   "id": "31fcf044350a1efe",
   "execution_count": 1
  },
  {
   "cell_type": "code",
   "outputs": [
    {
     "data": {
      "text/plain": "     individual       time  state  sojourn_time  censorship        x1  \\\n0             0   1.389682      1      0.299386           1  0.484397   \n1             1   0.230126      1      0.230126           0  0.556307   \n2             1   0.320142      0      0.090016           0  0.556307   \n3             1   0.355342      1      0.035200           0  0.556307   \n4             2   4.753752      1      4.753752           0  0.136278   \n..          ...        ...    ...           ...         ...       ...   \n104          48   9.385638      1      5.353633           0  0.388852   \n105          49  15.961560      1     15.961560           0  0.250243   \n106          49  42.032260      0     26.070699           0  0.250243   \n107          49  43.477810      1      1.445550           0  0.250243   \n108          49  51.813921      0      8.336111           0  0.250243   \n\n           x2        y1        y2  \n0   -0.036782 -1.173680 -1.040765  \n1    0.828510 -0.950320 -0.985141  \n2    0.828510 -0.839027 -0.888530  \n3    0.828510 -0.876517 -0.827044  \n4   -0.086718 -0.073368 -0.221101  \n..        ...       ...       ...  \n104  0.171205 -0.732885 -0.587844  \n105 -0.086952 -0.554247 -0.851609  \n106 -0.086952 -0.668509 -0.623109  \n107 -0.086952 -0.836973 -0.845112  \n108 -0.086952 -0.834817 -0.802031  \n\n[109 rows x 9 columns]",
      "text/html": "<div>\n<style scoped>\n    .dataframe tbody tr th:only-of-type {\n        vertical-align: middle;\n    }\n\n    .dataframe tbody tr th {\n        vertical-align: top;\n    }\n\n    .dataframe thead th {\n        text-align: right;\n    }\n</style>\n<table border=\"1\" class=\"dataframe\">\n  <thead>\n    <tr style=\"text-align: right;\">\n      <th></th>\n      <th>individual</th>\n      <th>time</th>\n      <th>state</th>\n      <th>sojourn_time</th>\n      <th>censorship</th>\n      <th>x1</th>\n      <th>x2</th>\n      <th>y1</th>\n      <th>y2</th>\n    </tr>\n  </thead>\n  <tbody>\n    <tr>\n      <th>0</th>\n      <td>0</td>\n      <td>1.389682</td>\n      <td>1</td>\n      <td>0.299386</td>\n      <td>1</td>\n      <td>0.484397</td>\n      <td>-0.036782</td>\n      <td>-1.173680</td>\n      <td>-1.040765</td>\n    </tr>\n    <tr>\n      <th>1</th>\n      <td>1</td>\n      <td>0.230126</td>\n      <td>1</td>\n      <td>0.230126</td>\n      <td>0</td>\n      <td>0.556307</td>\n      <td>0.828510</td>\n      <td>-0.950320</td>\n      <td>-0.985141</td>\n    </tr>\n    <tr>\n      <th>2</th>\n      <td>1</td>\n      <td>0.320142</td>\n      <td>0</td>\n      <td>0.090016</td>\n      <td>0</td>\n      <td>0.556307</td>\n      <td>0.828510</td>\n      <td>-0.839027</td>\n      <td>-0.888530</td>\n    </tr>\n    <tr>\n      <th>3</th>\n      <td>1</td>\n      <td>0.355342</td>\n      <td>1</td>\n      <td>0.035200</td>\n      <td>0</td>\n      <td>0.556307</td>\n      <td>0.828510</td>\n      <td>-0.876517</td>\n      <td>-0.827044</td>\n    </tr>\n    <tr>\n      <th>4</th>\n      <td>2</td>\n      <td>4.753752</td>\n      <td>1</td>\n      <td>4.753752</td>\n      <td>0</td>\n      <td>0.136278</td>\n      <td>-0.086718</td>\n      <td>-0.073368</td>\n      <td>-0.221101</td>\n    </tr>\n    <tr>\n      <th>...</th>\n      <td>...</td>\n      <td>...</td>\n      <td>...</td>\n      <td>...</td>\n      <td>...</td>\n      <td>...</td>\n      <td>...</td>\n      <td>...</td>\n      <td>...</td>\n    </tr>\n    <tr>\n      <th>104</th>\n      <td>48</td>\n      <td>9.385638</td>\n      <td>1</td>\n      <td>5.353633</td>\n      <td>0</td>\n      <td>0.388852</td>\n      <td>0.171205</td>\n      <td>-0.732885</td>\n      <td>-0.587844</td>\n    </tr>\n    <tr>\n      <th>105</th>\n      <td>49</td>\n      <td>15.961560</td>\n      <td>1</td>\n      <td>15.961560</td>\n      <td>0</td>\n      <td>0.250243</td>\n      <td>-0.086952</td>\n      <td>-0.554247</td>\n      <td>-0.851609</td>\n    </tr>\n    <tr>\n      <th>106</th>\n      <td>49</td>\n      <td>42.032260</td>\n      <td>0</td>\n      <td>26.070699</td>\n      <td>0</td>\n      <td>0.250243</td>\n      <td>-0.086952</td>\n      <td>-0.668509</td>\n      <td>-0.623109</td>\n    </tr>\n    <tr>\n      <th>107</th>\n      <td>49</td>\n      <td>43.477810</td>\n      <td>1</td>\n      <td>1.445550</td>\n      <td>0</td>\n      <td>0.250243</td>\n      <td>-0.086952</td>\n      <td>-0.836973</td>\n      <td>-0.845112</td>\n    </tr>\n    <tr>\n      <th>108</th>\n      <td>49</td>\n      <td>51.813921</td>\n      <td>0</td>\n      <td>8.336111</td>\n      <td>0</td>\n      <td>0.250243</td>\n      <td>-0.086952</td>\n      <td>-0.834817</td>\n      <td>-0.802031</td>\n    </tr>\n  </tbody>\n</table>\n<p>109 rows × 9 columns</p>\n</div>"
     },
     "execution_count": 6,
     "metadata": {},
     "output_type": "execute_result"
    }
   ],
   "source": [
    "# Step 1: Generate the synthetic dataset\n",
    "data = make_transition_data(n_samples=50)\n",
    "\n",
    "# Step 2: Map columns from the data to respective variables\n",
    "Z_i1 = data[[col for col in data.columns if col.startswith(\"x\")]].values  # Static covariates\n",
    "Z_ij1 = data[[col for col in data.columns if col.startswith(\"y\")]].values  # Time-dependent covariates\n",
    "delta_i1 = data['censorship'].values  # Censorship indicator\n",
    "Y_l1_t = data['state'].values  # At-risk indicator\n",
    "time = data['time'].values  # Transition times\n",
    "B_ij = data['sojourn_time'].values  # Sojourn times\n",
    "individual = data['individual'].values\n",
    "data"
   ],
   "metadata": {
    "collapsed": true,
    "ExecuteTime": {
     "end_time": "2024-10-23T07:56:41.294525Z",
     "start_time": "2024-10-23T07:56:41.226673Z"
    }
   },
   "id": "initial_id",
   "execution_count": 6
  },
  {
   "cell_type": "code",
   "outputs": [],
   "source": [
    "# Step 3: Initialize the objective function\n",
    "objective_function = TwoStateCoxObjectiveFunction(Z_i1, Z_ij1, delta_i1, Y_l1_t, time, B_ij, individual)\n",
    "\n",
    "# Step 4: Initialize the hazard survival calculator\n",
    "hazard_survival_calculator = TwoStateSurvivalCalculator(objective_function)\n",
    "\n",
    "# Step 5: Initialize the optimizer\n",
    "optimizer = Optimizer(\n",
    "    objective_function=objective_function,\n",
    "    hazard_survival_calculator=hazard_survival_calculator\n",
    ")\n",
    "\n",
    "# Step 6: Perform optimization\n",
    "model = optimizer.fit(verbose=True, show_progress=True)"
   ],
   "metadata": {
    "collapsed": false
   },
   "id": "446bf99a35daccbe",
   "execution_count": null
  },
  {
   "cell_type": "code",
   "outputs": [],
   "source": [
    "# Step 7: Initialize the Population Transition Probabilities class with the dataset\n",
    "population_transition_probs = PopulationTransitionProbabilities()\n",
    "transition_probabilities = population_transition_probs.compute_transition_probabilities(data)"
   ],
   "metadata": {
    "collapsed": false,
    "ExecuteTime": {
     "end_time": "2024-10-18T18:18:25.246431Z",
     "start_time": "2024-10-18T18:18:25.184087Z"
    }
   },
   "id": "854e5d6345d8a32c",
   "execution_count": 29
  },
  {
   "cell_type": "code",
   "outputs": [
    {
     "ename": "TypeError",
     "evalue": "compute_transition_probabilities() missing 1 required positional argument: 'data'",
     "output_type": "error",
     "traceback": [
      "\u001B[1;31m---------------------------------------------------------------------------\u001B[0m",
      "\u001B[1;31mTypeError\u001B[0m                                 Traceback (most recent call last)",
      "Cell \u001B[1;32mIn[30], line 3\u001B[0m\n\u001B[0;32m      1\u001B[0m \u001B[38;5;66;03m# Step 8: Run Monte Carlo Simulation using hazard survival calculator, model coefficients, and transition probabilities\u001B[39;00m\n\u001B[0;32m      2\u001B[0m beta \u001B[38;5;241m=\u001B[39m model\u001B[38;5;241m.\u001B[39mcoef_  \u001B[38;5;66;03m# Use the optimized model coefficients\u001B[39;00m\n\u001B[1;32m----> 3\u001B[0m mc_simulation \u001B[38;5;241m=\u001B[39m \u001B[43mMonteCarloSimulation\u001B[49m\u001B[43m(\u001B[49m\u001B[43mhazard_survival_calculator\u001B[49m\u001B[43m,\u001B[49m\u001B[43m \u001B[49m\u001B[43mbeta\u001B[49m\u001B[43m,\u001B[49m\u001B[43m \u001B[49m\u001B[43mpopulation_transition_probs\u001B[49m\u001B[43m)\u001B[49m\n\u001B[0;32m      5\u001B[0m \u001B[38;5;66;03m# Step 9: Run the Monte Carlo simulation for multiple paths\u001B[39;00m\n\u001B[0;32m      6\u001B[0m paths \u001B[38;5;241m=\u001B[39m mc_simulation\u001B[38;5;241m.\u001B[39mrun_simulation(n_simulations\u001B[38;5;241m=\u001B[39m\u001B[38;5;241m10\u001B[39m, max_time\u001B[38;5;241m=\u001B[39m\u001B[38;5;241m100\u001B[39m)\n",
      "File \u001B[1;32m~\\PycharmProjects\\survival_analysis\\surv_optimizer\\calculators\\MonteCarloSimulation.py:19\u001B[0m, in \u001B[0;36mMonteCarloSimulation.__init__\u001B[1;34m(self, hazard_survival_calculator, beta, population_transition_probabilities)\u001B[0m\n\u001B[0;32m     17\u001B[0m \u001B[38;5;28mself\u001B[39m\u001B[38;5;241m.\u001B[39mbeta \u001B[38;5;241m=\u001B[39m beta\n\u001B[0;32m     18\u001B[0m \u001B[38;5;28mself\u001B[39m\u001B[38;5;241m.\u001B[39mpopulation_transition_probabilities \u001B[38;5;241m=\u001B[39m population_transition_probabilities\n\u001B[1;32m---> 19\u001B[0m \u001B[38;5;28mself\u001B[39m\u001B[38;5;241m.\u001B[39mtransition_matrix \u001B[38;5;241m=\u001B[39m \u001B[43mpopulation_transition_probabilities\u001B[49m\u001B[38;5;241;43m.\u001B[39;49m\u001B[43mcompute_transition_probabilities\u001B[49m\u001B[43m(\u001B[49m\u001B[43m)\u001B[49m\n",
      "\u001B[1;31mTypeError\u001B[0m: compute_transition_probabilities() missing 1 required positional argument: 'data'"
     ]
    }
   ],
   "source": [
    "# Step 8: Run Monte Carlo Simulation using hazard survival calculator, model coefficients, and transition probabilities\n",
    "beta = model.coef_  # Use the optimized model coefficients\n",
    "mc_simulation = MonteCarloSimulation(hazard_survival_calculator, beta, population_transition_probs)\n",
    "\n",
    "# Step 9: Run the Monte Carlo simulation for multiple paths\n",
    "paths = mc_simulation.run_simulation(n_simulations=10, max_time=100)\n",
    "\n",
    "# Step 10: Print paths to verify the results\n",
    "for idx, path in enumerate(paths):\n",
    "    print(f\"Path {idx + 1}: {path}\")"
   ],
   "metadata": {
    "collapsed": false,
    "ExecuteTime": {
     "end_time": "2024-10-18T18:18:33.800418Z",
     "start_time": "2024-10-18T18:18:33.734674Z"
    }
   },
   "id": "64c722af3917d392",
   "execution_count": 30
  },
  {
   "cell_type": "code",
   "outputs": [],
   "source": [],
   "metadata": {
    "collapsed": false
   },
   "id": "44d8831b692bea0d",
   "execution_count": null
  }
 ],
 "metadata": {
  "kernelspec": {
   "display_name": "Python 3",
   "language": "python",
   "name": "python3"
  },
  "language_info": {
   "codemirror_mode": {
    "name": "ipython",
    "version": 2
   },
   "file_extension": ".py",
   "mimetype": "text/x-python",
   "name": "python",
   "nbconvert_exporter": "python",
   "pygments_lexer": "ipython2",
   "version": "2.7.6"
  }
 },
 "nbformat": 4,
 "nbformat_minor": 5
}
